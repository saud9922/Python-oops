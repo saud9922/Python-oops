{
 "cells": [
  {
   "cell_type": "code",
   "execution_count": null,
   "id": "92760663-5147-495c-aeba-5b68c0e4f4ed",
   "metadata": {},
   "outputs": [],
   "source": [
    "\"\"\"\n",
    "#Q.1) What is Object-Oriented Programming (OOP)?\n",
    "->   Object-Oriented Programming (OOP) is a programming based on the concept of objects which combine data (attributes) \n",
    "and behavior (methods) together.\n",
    "\n",
    "#Q.2) What is a class in OOP?\n",
    "->   Think of a class as a blueprint for creating objects. If an object is a car, then a class is the car’s design—it defines \n",
    "how the car should look and behave.\n",
    "\n",
    "#Q.3) What is an object in OOP?\n",
    "->   An object is simply an instance of a class. It’s like a real car that was built using the blueprint (class).\n",
    "\n",
    "#Q.4) What is the difference between abstraction and encapsulation?\n",
    "->   These two concepts serve different purposes:\n",
    "\n",
    "    Abstraction hides unnecessary details and shows only what’s needed. For example, when you use a TV remote,\n",
    "    you don’t need to know how the internal circuit works—just press buttons and it works!\n",
    "    Encapsulation is about restricting direct access to some data and only allowing controlled access through methods.\n",
    "    Think of it as a bank account—you can see your balance but can't modify it directly without an ATM or banking app\n",
    "\n",
    "#Q.5) What are dunder methods in Python?\n",
    "->   dunder methods in python also known as magic methods in python that begins  and ends with \"__\"\n",
    "    Example:\n",
    "\n",
    "    __init__() → Constructor\n",
    "    __str__() → String representation\n",
    "    __add__() → Operator overloading\n",
    "\n",
    "#Q.6) Explain the concept of inheritance in OOP.\n",
    "->   Inheritance in python is the concept In python where a child class can inherit and access\n",
    "     the properties of a parent class but a parent class wont be able to aceess the similar inherit properties.\n",
    "\n",
    "#Q.7) What is polymorphism in OOP?\n",
    "->   The term polymorphism means many which says that the same function can work differently depending upoun object \n",
    "\n",
    "#Q.8) How is encapsulation achieved in Python?\n",
    "->   encapsulation is a process in which a method is use to make a variable private and providing variable to acess them safely\n",
    "\n",
    "#Q.9) What is a constructor in Python?\n",
    "->   constructor in python is a special __init__ process which initialize the values to an object\n",
    "\n",
    "#Q.10) What are class and static methods in Python?\n",
    "->    Class Method (@classmethod) works on class-level data and takes cls as an argument.\n",
    "      \n",
    "      Static Method (@staticmethod) doesn’t depend on class or instance data.  \n",
    "\n",
    "#Q.11) What is method overloading in Python?\n",
    "->    Python doesn’t support traditional method overloading like Java, but we can achieve similar \n",
    "      behavior using default arguments.\n",
    "\n",
    "#Q.12 What is method overriding in OOP?\n",
    "-> Overriding means modifying a method in a child class that exists in the parent class.Python doesn’t \n",
    "   support traditional method overloading like Java, but we can achieve similar behavior using default arguments.\n",
    "\n",
    "#Q.13: What is a property decorator in Python?\n",
    "->     \n",
    "\"\"\""
   ]
  },
  {
   "cell_type": "code",
   "execution_count": 7,
   "id": "5d1373bb-7530-4bf7-81c8-7995c52e2048",
   "metadata": {},
   "outputs": [
    {
     "name": "stdout",
     "output_type": "stream",
     "text": [
      "the animal sound \n",
      "bark!\n"
     ]
    }
   ],
   "source": [
    "\"\"\" 1. Create a parent class Animal with a method speak() that prints a generic message. Create a child class Dog'\n",
    "that overrides the speak() method to print \"Bark!\"\"\"\n",
    "class animal():\n",
    "    def speak(self):\n",
    "        print(\"the animal sound \")\n",
    "class dog (animal):\n",
    "    def speak(self):\n",
    "        print(\"bark!\")\n",
    "animal1 = animal()\n",
    "animal1.speak()\n",
    "dog1 = dog()\n",
    "dog1.speak()"
   ]
  },
  {
   "cell_type": "code",
   "execution_count": 11,
   "id": "9a823a9f-befb-434a-8f07-23302ba5585f",
   "metadata": {},
   "outputs": [
    {
     "name": "stdout",
     "output_type": "stream",
     "text": [
      "Area of circle: 78.53981633974483\n",
      "Area of rectangle: 24\n"
     ]
    }
   ],
   "source": [
    "\"\"\"2. Write a program to create an abstract class Shape with a method area(). Derive classes Circle and Rectangle\n",
    "from it and implement the area() method in both.\"\"\"\n",
    "from abc import ABC, abstractmethod\n",
    "import math\n",
    "\n",
    "class Shape(ABC):\n",
    "    \n",
    "    @abstractmethod\n",
    "    def area(self):\n",
    "        pass  \n",
    "class Circle(Shape):\n",
    "    \n",
    "    def __init__(self, radius):\n",
    "        self.radius = radius\n",
    "        \n",
    "    def area(self):\n",
    "        return math.pi * self.radius ** 2\n",
    "\n",
    "\n",
    "class Rectangle(Shape):\n",
    "    \n",
    "    def __init__(self, width, height):\n",
    "        self.width = width\n",
    "        self.height = height\n",
    "        \n",
    "    def area(self):\n",
    "        return self.width * self.height\n",
    "\n",
    "\n",
    "circle = Circle(5)\n",
    "rectangle = Rectangle(4, 6)\n",
    "\n",
    "print(\"Area of circle:\", circle.area())        \n",
    "print(\"Area of rectangle:\", rectangle.area())  # Output: 24\n"
   ]
  },
  {
   "cell_type": "code",
   "execution_count": 14,
   "id": "35570a9b-3b37-4b03-97cc-2405a10f8a59",
   "metadata": {},
   "outputs": [
    {
     "name": "stdout",
     "output_type": "stream",
     "text": [
      "Vehicle Type: Four-wheeler\n",
      "Brand: Tesla\n",
      "Battery Capacity\n"
     ]
    }
   ],
   "source": [
    "\"\"\"3. Implement a multi-level inheritance scenario where a class Vehicle has an attribute type. Derive a class Car\n",
    "and further derive a class ElectricCar that adds a battery attribute.\"\"\"\n",
    "# Base class\n",
    "class Vehicle:\n",
    "    def __init__(self, vehicle_type):\n",
    "        self.type = vehicle_type\n",
    "\n",
    "# First-level derived class\n",
    "class Car(Vehicle):\n",
    "    def __init__(self, vehicle_type, brand):\n",
    "        super().__init__(vehicle_type)\n",
    "        self.brand = brand\n",
    "\n",
    "# Second-level derived class\n",
    "class ElectricCar(Car):\n",
    "    def __init__(self, vehicle_type, brand, battery_capacity):\n",
    "        super().__init__(vehicle_type, brand)\n",
    "        self.battery = battery_capacity\n",
    "\n",
    "# Example usage\n",
    "e_car = ElectricCar(\"Four-wheeler\", \"Tesla\", \"75 kWh\")\n",
    "\n",
    "print(\"Vehicle Type:\", e_car.type)           \n",
    "print(\"Brand:\", e_car.brand)                  \n",
    "print(\"Battery Capacity\")\n"
   ]
  },
  {
   "cell_type": "code",
   "execution_count": 15,
   "id": "4dfb7818-b12f-4fd0-a1d7-dbc8efd859d6",
   "metadata": {},
   "outputs": [
    {
     "name": "stdout",
     "output_type": "stream",
     "text": [
      "Sparrow flies high in the sky.\n",
      "Penguins can't fly but they swim well.\n"
     ]
    }
   ],
   "source": [
    "\"\"\"4. Demonstrate polymorphism by creating a base class Bird with a method fly(). Create two derived classes\n",
    "Sparrow and Penguin that override the fly() method.\n",
    "\"\"\"\n",
    "# Base class\n",
    "class Bird:\n",
    "    def fly(self):\n",
    "        print(\"Some bird is flying.\")\n",
    "\n",
    "# Derived class 1\n",
    "class Sparrow(Bird):\n",
    "    def fly(self):\n",
    "        print(\"Sparrow flies high in the sky.\")\n",
    "\n",
    "# Derived class 2\n",
    "class Penguin(Bird):\n",
    "    def fly(self):\n",
    "        print(\"Penguins can't fly but they swim well.\")\n",
    "\n",
    "# Example usage\n",
    "birds = [Sparrow(), Penguin()]\n",
    "\n",
    "for bird in birds:\n",
    "    bird.fly()  # Polymorphic behavior\n",
    "\n"
   ]
  },
  {
   "cell_type": "code",
   "execution_count": 19,
   "id": "4778f714-9663-407e-81bf-ca863946e015",
   "metadata": {},
   "outputs": [
    {
     "name": "stdout",
     "output_type": "stream",
     "text": [
      "Current balance: ₹1000\n",
      "Deposited ₹500\n",
      "Withdrew ₹300\n",
      "Current balance: ₹1200\n"
     ]
    }
   ],
   "source": [
    "\"\"\"5. Write a program to demonstrate encapsulation by creating a class BankAccount with private attributes\n",
    "balance and methods to deposit, withdraw, and check balance.\"\"\"\n",
    "def __init__(self, initial_balance=0):\n",
    "    self.__balance = initial_balance  # Private attribute\n",
    "\n",
    "def deposit(self, amount):\n",
    "    if amount > 0:\n",
    "        self.__balance += amount\n",
    "        print(f\"Deposited ₹{amount}\")\n",
    "    else:\n",
    "        print(\"Invalid deposit amount.\")\n",
    "\n",
    "def withdraw(self, amount):\n",
    "    if 0 < amount <= self.__balance:\n",
    "        self.__balance -= amount\n",
    "        print(f\"Withdrew ₹{amount}\")\n",
    "    else:\n",
    "        print(\"Insufficient balance or invalid amount.\")\n",
    "\n",
    "def check_balance(self):\n",
    "    print(f\"Current balance: ₹{self.__balance}\")\n",
    "\n",
    "# Example usage\n",
    "account = BankAccount(1000)\n",
    "account.check_balance()    # Output: ₹1000\n",
    "account.deposit(500)       # Deposit ₹500\n",
    "account.withdraw(300)      # Withdraw ₹300\n",
    "account.check_balance()    # Output: ₹1200\n",
    "\n",
    "# Trying to access private attribute directly (will fail)\n",
    "# print(account.__balance)  # AttributeError\n",
    "\n"
   ]
  },
  {
   "cell_type": "code",
   "execution_count": 20,
   "id": "614dcaad-3a5e-4ea2-b4dd-b8b6d062460f",
   "metadata": {},
   "outputs": [
    {
     "name": "stdout",
     "output_type": "stream",
     "text": [
      "Strumming the guitar.\n",
      "Playing the piano keys.\n"
     ]
    }
   ],
   "source": [
    "\"\"\"6. Demonstrate runtime polymorphism using a method play() in a base class Instrument. Derive classes Guitar\n",
    "and Piano that implement their own version of play().\"\"\"\n",
    "# Base class\n",
    "class Instrument:\n",
    "    def play(self):\n",
    "        print(\"Playing some instrument.\")\n",
    "\n",
    "# Derived class 1\n",
    "class Guitar(Instrument):\n",
    "    def play(self):\n",
    "        print(\"Strumming the guitar.\")\n",
    "\n",
    "# Derived class 2\n",
    "class Piano(Instrument):\n",
    "    def play(self):\n",
    "        print(\"Playing the piano keys.\")\n",
    "\n",
    "# Example usage\n",
    "instruments = [Guitar(), Piano()]\n",
    "\n",
    "for instrument in instruments:\n",
    "    instrument.play()  # Runtime polymorphism\n"
   ]
  },
  {
   "cell_type": "code",
   "execution_count": 22,
   "id": "7cc15157-da3f-467b-8910-42efc373db8d",
   "metadata": {},
   "outputs": [
    {
     "name": "stdout",
     "output_type": "stream",
     "text": [
      "Sum: 15\n",
      "Difference: 5\n"
     ]
    }
   ],
   "source": [
    "\"\"\"7. Create a class MathOperations with a class method add_numbers() to add two numbers and a static\n",
    "method subtract_numbers() to subtract two numbers.\"\"\"\n",
    "class MathOperations:\n",
    "    @classmethod\n",
    "    def add_numbers(cls, a, b):\n",
    "        return a + b\n",
    "\n",
    "    @staticmethod\n",
    "    def subtract_numbers(a, b):\n",
    "        return a - b\n",
    "\n",
    "# Example usage\n",
    "sum_result = MathOperations.add_numbers(10, 5)\n",
    "difference_result = MathOperations.subtract_numbers(10, 5)\n",
    "\n",
    "print(\"Sum:\", sum_result)             # Output: Sum: 15\n",
    "print(\"Difference:\", difference_result)  # Output: Difference: 5\n"
   ]
  },
  {
   "cell_type": "code",
   "execution_count": 24,
   "id": "3448263c-163a-4910-a655-7d67eacd215b",
   "metadata": {},
   "outputs": [
    {
     "name": "stdout",
     "output_type": "stream",
     "text": [
      "Total persons created: 3\n"
     ]
    }
   ],
   "source": [
    "\"\"\"8. Implement a class Person with a class method to count the total number of persons created\"\"\"\n",
    "class Person:\n",
    "    count = 0  # Class variable to track number of persons\n",
    "\n",
    "    def __init__(self, name):\n",
    "        self.name = name\n",
    "        Person.count += 1  # Increment count when a new Person is created\n",
    "\n",
    "    @classmethod\n",
    "    def total_persons(cls):\n",
    "        return cls.count\n",
    "\n",
    "# Example usage\n",
    "p1 = Person(\"Alice\")\n",
    "p2 = Person(\"Bob\")\n",
    "p3 = Person(\"Charlie\")\n",
    "\n",
    "print(\"Total persons created:\", Person.total_persons())  # Output: 3\n"
   ]
  },
  {
   "cell_type": "code",
   "execution_count": 25,
   "id": "2e7c434d-eef1-419e-aad4-777d9768f5ce",
   "metadata": {},
   "outputs": [
    {
     "name": "stdout",
     "output_type": "stream",
     "text": [
      "3/4\n",
      "5/8\n"
     ]
    }
   ],
   "source": [
    "\"\"\"9. Write a class Fraction with attributes numerator and denominator. Override the str method to display the\n",
    "fraction as \"numerator/denominator\".\"\"\"\n",
    "class Fraction:\n",
    "    def __init__(self, numerator, denominator):\n",
    "        self.numerator = numerator\n",
    "        self.denominator = denominator\n",
    "\n",
    "    def __str__(self):\n",
    "        return f\"{self.numerator}/{self.denominator}\"\n",
    "\n",
    "# Example usage\n",
    "f1 = Fraction(3, 4)\n",
    "f2 = Fraction(5, 8)\n",
    "\n",
    "print(f1)  # Output: 3/4\n",
    "print(f2)  # Output: 5/8\n"
   ]
  },
  {
   "cell_type": "code",
   "execution_count": 26,
   "id": "42faf449-cf89-4df3-aba8-c3e3c31f9027",
   "metadata": {},
   "outputs": [
    {
     "name": "stdout",
     "output_type": "stream",
     "text": [
      "v1: (2, 3)\n",
      "v2: (4, 5)\n",
      "v1 + v2 = (6, 8)\n"
     ]
    }
   ],
   "source": [
    "\"\"\"10. Demonstrate operator overloading by creating a class Vector and overriding the add method to add two\n",
    "vectors.\"\"\"\n",
    "class Vector:\n",
    "    def __init__(self, x, y):\n",
    "        self.x = x\n",
    "        self.y = y\n",
    "\n",
    "    def __add__(self, other):\n",
    "        # Overloads the + operator for Vector addition\n",
    "        return Vector(self.x + other.x, self.y + other.y)\n",
    "\n",
    "    def __str__(self):\n",
    "        return f\"({self.x}, {self.y})\"\n",
    "\n",
    "# Example usage\n",
    "v1 = Vector(2, 3)\n",
    "v2 = Vector(4, 5)\n",
    "v3 = v1 + v2  # Uses the overloaded __add__ method\n",
    "\n",
    "print(\"v1:\", v1)  # Output: (2, 3)\n",
    "print(\"v2:\", v2)  # Output: (4, 5)\n",
    "print(\"v1 + v2 =\", v3)  # Output: (6, 8)\n"
   ]
  },
  {
   "cell_type": "code",
   "execution_count": 27,
   "id": "9a98e4f5-7bb5-4250-8c81-68aee518c884",
   "metadata": {},
   "outputs": [
    {
     "name": "stdout",
     "output_type": "stream",
     "text": [
      "Hello, my name is Aisha and I am 23 years old.\n"
     ]
    }
   ],
   "source": [
    "\"\"\"11. Create a class Person with attributes name and age. Add a method greet() that prints \"Hello, my name is\n",
    "{name} and I am {age} years old.\"\"\"\n",
    "class Person:\n",
    "    def __init__(self, name, age):\n",
    "        self.name = name\n",
    "        self.age = age\n",
    "\n",
    "    def greet(self):\n",
    "        print(f\"Hello, my name is {self.name} and I am {self.age} years old.\")\n",
    "\n",
    "# Example usage\n",
    "p1 = Person(\"Aisha\", 23)\n",
    "p1.greet()  # Output: Hello, my name is Aisha and I am 23 years old.\n"
   ]
  },
  {
   "cell_type": "code",
   "execution_count": 28,
   "id": "f7ccb63e-c42b-4fe7-90a9-51ad7fa1fd50",
   "metadata": {},
   "outputs": [
    {
     "name": "stdout",
     "output_type": "stream",
     "text": [
      "Rahul's average grade is 86.25\n"
     ]
    }
   ],
   "source": [
    "\"\"\"12. Implement a class Student with attributes name and grades. Create a method average_grade() to compute\n",
    "the average of the grades.\"\"\"\n",
    "class Student:\n",
    "    def __init__(self, name, grades):\n",
    "        self.name = name\n",
    "        self.grades = grades  # List of numeric grades\n",
    "\n",
    "    def average_grade(self):\n",
    "        if not self.grades:\n",
    "            return 0  # Avoid division by zero\n",
    "        return sum(self.grades) / len(self.grades)\n",
    "\n",
    "# Example usage\n",
    "s1 = Student(\"Rahul\", [85, 90, 78, 92])\n",
    "print(f\"{s1.name}'s average grade is {s1.average_grade():.2f}\")  # Output: Rahul's average grade is 86.25\n"
   ]
  },
  {
   "cell_type": "code",
   "execution_count": 29,
   "id": "c02cb265-4e3b-4115-91a0-656ef008fd65",
   "metadata": {},
   "outputs": [
    {
     "name": "stdout",
     "output_type": "stream",
     "text": [
      "Area of rectangle: 15\n"
     ]
    }
   ],
   "source": [
    "\"\"\"13. Create a class Rectangle with methods set_dimensions() to set the dimensions and area() to calculate the\n",
    "area.\"\"\"\n",
    "class Rectangle:\n",
    "    def __init__(self):\n",
    "        self.length = 0\n",
    "        self.width = 0\n",
    "\n",
    "    def set_dimensions(self, length, width):\n",
    "        self.length = length\n",
    "        self.width = width\n",
    "\n",
    "    def area(self):\n",
    "        return self.length * self.width\n",
    "\n",
    "# Example usage\n",
    "rect = Rectangle()\n",
    "rect.set_dimensions(5, 3)\n",
    "print(\"Area of rectangle:\", rect.area())  # Output: Area of rectangle: 15\n"
   ]
  },
  {
   "cell_type": "code",
   "execution_count": 31,
   "id": "53974729-b1cc-4868-a7d7-72c663fc90e7",
   "metadata": {},
   "outputs": [
    {
     "name": "stdout",
     "output_type": "stream",
     "text": [
      "John's salary: ₹20000\n",
      "Alice's salary: ₹25000\n"
     ]
    }
   ],
   "source": [
    "\"\"\"14. Create a class Employee with a method calculate_salary() that computes the salary based on hours worked\n",
    "and hourly rate. Create a derived class Manager that adds a bonus to the salary.\"\"\"\n",
    "# Base class\n",
    "class Employee:\n",
    "    def __init__(self, name, hours_worked, hourly_rate):\n",
    "        self.name = name\n",
    "        self.hours_worked = hours_worked\n",
    "        self.hourly_rate = hourly_rate\n",
    "\n",
    "    def calculate_salary(self):\n",
    "        return self.hours_worked * self.hourly_rate\n",
    "\n",
    "# Derived class\n",
    "class Manager(Employee):\n",
    "    def __init__(self, name, hours_worked, hourly_rate, bonus):\n",
    "        super().__init__(name, hours_worked, hourly_rate)\n",
    "        self.bonus = bonus\n",
    "\n",
    "    def calculate_salary(self):\n",
    "        base_salary = super().calculate_salary()\n",
    "        return base_salary + self.bonus\n",
    "\n",
    "# Example usage\n",
    "e1 = Employee(\"John\", 40, 500)\n",
    "m1 = Manager(\"Alice\", 40, 500, 5000)\n",
    "\n",
    "print(f\"{e1.name}'s salary: ₹{e1.calculate_salary()}\")  # Output: ₹20000\n",
    "print(f\"{m1.name}'s salary: ₹{m1.calculate_salary()}\")  # Output: ₹25000\n"
   ]
  },
  {
   "cell_type": "code",
   "execution_count": 33,
   "id": "b67150d3-e7f8-4f14-a2c3-2b804702bcf5",
   "metadata": {},
   "outputs": [
    {
     "name": "stdout",
     "output_type": "stream",
     "text": [
      "Total price for Laptop: ₹100000\n",
      "Total price for Mouse: ₹1500\n"
     ]
    }
   ],
   "source": [
    "\"\"\"15. Create a class Product with attributes name, price, and quantity. Implement a method total_price() that\n",
    "calculates the total price of the product\"\"\"\n",
    "class Product:\n",
    "    def __init__(self, name, price, quantity):\n",
    "        self.name = name\n",
    "        self.price = price      # Price per unit\n",
    "        self.quantity = quantity  # Number of units\n",
    "\n",
    "    def total_price(self):\n",
    "        return self.price * self.quantity\n",
    "\n",
    "# Example usage\n",
    "p1 = Product(\"Laptop\", 50000, 2)\n",
    "p2 = Product(\"Mouse\", 500, 3)\n",
    "\n",
    "print(f\"Total price for {p1.name}: ₹{p1.total_price()}\")  # Output: ₹100000\n",
    "print(f\"Total price for {p2.name}: ₹{p2.total_price()}\")  # Output: ₹1500\n"
   ]
  },
  {
   "cell_type": "code",
   "execution_count": 3,
   "id": "d12beb15-4f34-43b5-b320-faaa8dbc52d6",
   "metadata": {},
   "outputs": [
    {
     "name": "stdout",
     "output_type": "stream",
     "text": [
      "Cow says: Moo\n",
      "Sheep says: Baa\n"
     ]
    }
   ],
   "source": [
    "\"\"\"16. Create a class Animal with an abstract method sound(). Create two derived classes Cow and Sheep that\n",
    "implement the sound() method.from abc import ABC, abstractmethod\"\"\"\n",
    "\n",
    "from abc import ABC, abstractmethod\n",
    "# Abstract base class\n",
    "class Animal(ABC):\n",
    "    \n",
    "    @abstractmethod\n",
    "    def sound(self):\n",
    "        pass\n",
    "\n",
    "# Derived class Cow\n",
    "class Cow(Animal):\n",
    "    def sound(self):\n",
    "        return \"Moo\"\n",
    "\n",
    "# Derived class Sheep\n",
    "class Sheep(Animal):\n",
    "    def sound(self):\n",
    "        return \"Baa\"\n",
    "\n",
    "# Example usage\n",
    "if __name__ == \"__main__\":\n",
    "    cow = Cow()\n",
    "    sheep = Sheep()\n",
    "    \n",
    "    print(\"Cow says:\", cow.sound())\n",
    "    print(\"Sheep says:\", sheep.sound())\n"
   ]
  },
  {
   "cell_type": "code",
   "execution_count": 4,
   "id": "e6e82086-e25a-4641-a834-3852bde83be5",
   "metadata": {},
   "outputs": [
    {
     "name": "stdout",
     "output_type": "stream",
     "text": [
      "'To Kill a Mockingbird' by Harper Lee, published in 1960.\n"
     ]
    }
   ],
   "source": [
    "\n",
    "\"\"\"17. Create a class Book with attributes title, author, and year_published. Add a method get_book_info() that\n",
    "returns a formatted string with the book's details.\"\"\"\n",
    "class Book:\n",
    "    def __init__(self, title, author, year_published):\n",
    "        self.title = title\n",
    "        self.author = author\n",
    "        self.year_published = year_published\n",
    "\n",
    "    def get_book_info(self):\n",
    "        return f\"'{self.title}' by {self.author}, published in {self.year_published}.\"\n",
    "\n",
    "# Example usage\n",
    "if __name__ == \"__main__\":\n",
    "    book = Book(\"To Kill a Mockingbird\", \"Harper Lee\", 1960)\n",
    "    print(book.get_book_info())\n"
   ]
  },
  {
   "cell_type": "code",
   "execution_count": 6,
   "id": "c56c32a5-ccd6-4729-8cc8-f3d518b84093",
   "metadata": {},
   "outputs": [
    {
     "name": "stdout",
     "output_type": "stream",
     "text": [
      "Mansion located at 123 Royal Lane, Delhi, priced at ₹50,000,000, with 12 rooms.\n"
     ]
    }
   ],
   "source": [
    "\"\"\" 18. Create a class House with attributes address and price. Create a derived class Mansion that adds an\n",
    "attribute number_of_rooms.\"\"\"\n",
    "# Base class\n",
    "class House:\n",
    "    def __init__(self, address, price):\n",
    "        self.address = address\n",
    "        self.price = price\n",
    "\n",
    "# Derived class\n",
    "class Mansion(House):\n",
    "    def __init__(self, address, price, number_of_rooms):\n",
    "        super().__init__(address, price)  # Call the constructor of the base class\n",
    "        self.number_of_rooms = number_of_rooms\n",
    "\n",
    "    def get_mansion_info(self):\n",
    "        return (f\"Mansion located at {self.address}, priced at ₹{self.price:,}, \"\n",
    "                f\"with {self.number_of_rooms} rooms.\")\n",
    "\n",
    "# Example usage\n",
    "if __name__ == \"__main__\":\n",
    "    mansion = Mansion(\"123 Royal Lane, Delhi\", 50000000, 12)\n",
    "    print(mansion.get_mansion_info())\n"
   ]
  },
  {
   "cell_type": "code",
   "execution_count": null,
   "id": "80f538a4-a9cb-49b7-a937-77c736f4608f",
   "metadata": {},
   "outputs": [],
   "source": []
  }
 ],
 "metadata": {
  "kernelspec": {
   "display_name": "Python 3 (ipykernel)",
   "language": "python",
   "name": "python3"
  },
  "language_info": {
   "codemirror_mode": {
    "name": "ipython",
    "version": 3
   },
   "file_extension": ".py",
   "mimetype": "text/x-python",
   "name": "python",
   "nbconvert_exporter": "python",
   "pygments_lexer": "ipython3",
   "version": "3.13.1"
  }
 },
 "nbformat": 4,
 "nbformat_minor": 5
}
